{
 "cells": [
  {
   "cell_type": "code",
   "execution_count": 1,
   "id": "fb8f13e0-a152-4788-bcc8-ccfea6373a04",
   "metadata": {},
   "outputs": [
    {
     "name": "stdout",
     "output_type": "stream",
     "text": [
      "Hello World in CodeSpaces\n"
     ]
    }
   ],
   "source": [
    "print('Hello World in CodeSpaces')\n"
   ]
  },
  {
   "cell_type": "code",
   "execution_count": null,
   "id": "7ee5f09c-abb1-4fcc-9692-89a2bdda5258",
   "metadata": {},
   "outputs": [],
   "source": []
  }
 ],
 "metadata": {
  "kernelspec": {
   "display_name": "Python 3 (ipykernel)",
   "language": "python",
   "name": "python3"
  },
  "language_info": {
   "codemirror_mode": {
    "name": "ipython",
    "version": 3
   },
   "file_extension": ".py",
   "mimetype": "text/x-python",
   "name": "python",
   "nbconvert_exporter": "python",
   "pygments_lexer": "ipython3",
   "version": "3.10.13"
  }
 },
 "nbformat": 4,
 "nbformat_minor": 5
}
